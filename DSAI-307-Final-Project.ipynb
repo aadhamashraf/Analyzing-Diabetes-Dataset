{
 "cells": [
  {
   "cell_type": "code",
   "execution_count": 6,
   "id": "a7a79759",
   "metadata": {
    "_execution_state": "idle",
    "_uuid": "051d70d956493feee0c6d64651c6a088724dca2a",
    "execution": {
     "iopub.execute_input": "2024-12-23T19:24:42.388892Z",
     "iopub.status.busy": "2024-12-23T19:24:42.386392Z",
     "iopub.status.idle": "2024-12-23T19:24:43.763928Z",
     "shell.execute_reply": "2024-12-23T19:24:43.762262Z"
    },
    "papermill": {
     "duration": 1.385999,
     "end_time": "2024-12-23T19:24:43.766312",
     "exception": false,
     "start_time": "2024-12-23T19:24:42.380313",
     "status": "completed"
    },
    "tags": [],
    "vscode": {
     "languageId": "r"
    }
   },
   "outputs": [
    {
     "name": "stderr",
     "output_type": "stream",
     "text": [
      "Installing package into 'C:/Users/Hozien/AppData/Local/R/win-library/4.4'\n",
      "(as 'lib' is unspecified)\n",
      "\n"
     ]
    },
    {
     "name": "stderr",
     "output_type": "stream",
     "text": [
      "Warning message in download.file(url, destfile, method, mode = \"wb\", ...):\n",
      "\"downloaded length 1503928 != reported length 2668722\"\n",
      "Warning message in download.file(url, destfile, method, mode = \"wb\", ...):\n",
      "\"URL 'https://cran.r-project.org/bin/windows/contrib/4.4/colorspace_2.1-1.zip': Timeout of 60 seconds was reached\"\n"
     ]
    },
    {
     "name": "stdout",
     "output_type": "stream",
     "text": [
      "Error in download.file(url, destfile, method, mode = \"wb\", ...) : \n",
      "  download from 'https://cran.r-project.org/bin/windows/contrib/4.4/colorspace_2.1-1.zip' failed\n"
     ]
    },
    {
     "name": "stderr",
     "output_type": "stream",
     "text": [
      "Warning message in download.packages(pkgs, destdir = tmpd, available = available, :\n",
      "\"download of package 'colorspace' failed\"\n",
      "Warning message:\n",
      "\"package 'tidyverse' is in use and will not be installed\"\n",
      "Warning message:\n",
      "\"package 'car' is in use and will not be installed\"\n"
     ]
    },
    {
     "data": {
      "text/html": [],
      "text/latex": [],
      "text/markdown": [],
      "text/plain": [
       "character(0)"
      ]
     },
     "metadata": {},
     "output_type": "display_data"
    }
   ],
   "source": [
    "install.packages(\"colorspace\")\n",
    "install.packages(\"tidyverse\")\n",
    "install.packages(\"car\")\n",
    "\n",
    "\n",
    "library(tidyverse) # metapackage of all tidyverse packages\n",
    "library(car) # for the vif function to check for multicollinearity\n",
    "list.files(path = \"./input\")"
   ]
  },
  {
   "cell_type": "code",
   "execution_count": 9,
   "id": "4d4e8748",
   "metadata": {
    "vscode": {
     "languageId": "r"
    }
   },
   "outputs": [
    {
     "name": "stderr",
     "output_type": "stream",
     "text": [
      "\u001b[1mRows: \u001b[22m\u001b[34m768\u001b[39m \u001b[1mColumns: \u001b[22m\u001b[34m9\u001b[39m\n",
      "\u001b[36m──\u001b[39m \u001b[1mColumn specification\u001b[22m \u001b[36m────────────────────────────────────────────────────────\u001b[39m\n",
      "\u001b[1mDelimiter:\u001b[22m \",\"\n",
      "\u001b[32mdbl\u001b[39m (9): Pregnancies, Glucose, BloodPressure, SkinThickness, Insulin, BMI, D...\n",
      "\n",
      "\u001b[36mℹ\u001b[39m Use `spec()` to retrieve the full column specification for this data.\n",
      "\u001b[36mℹ\u001b[39m Specify the column types or set `show_col_types = FALSE` to quiet this message.\n"
     ]
    }
   ],
   "source": [
    "diabetes_data <- read_csv(\"diabetes.csv\")\n"
   ]
  },
  {
   "cell_type": "markdown",
   "id": "0a53404c",
   "metadata": {
    "papermill": {
     "duration": 0.004042,
     "end_time": "2024-12-23T19:24:43.774393",
     "exception": false,
     "start_time": "2024-12-23T19:24:43.770351",
     "status": "completed"
    },
    "tags": []
   },
   "source": [
    "# **PART 1: Exploratory Analysis:**"
   ]
  },
  {
   "cell_type": "markdown",
   "id": "d677485c",
   "metadata": {
    "papermill": {
     "duration": 0.003708,
     "end_time": "2024-12-23T19:24:43.782143",
     "exception": false,
     "start_time": "2024-12-23T19:24:43.778435",
     "status": "completed"
    },
    "tags": []
   },
   "source": [
    "1. The average glucose levels among patients with and without diabetes.\n",
    "2. The average age of patients with and without diabetes.\n",
    "3. The average blood pressure measurements across diabetic and non-diabetic groups.\n",
    "4. The average BMI of diabetic versus non-diabetic patients. \n",
    "5. The rate of diabetes among patients in the dataset.\n",
    "6. The distribution of BMI values among all patients.\n",
    "7. The distribution of Diabetes Pedigree Function (DPF) values for diabetic and non-diabetic patients.\n",
    "8. The relationship between the number of pregnancies and diabetes occurrence.\n",
    "9. The correlation between glucose levels and BMI.\n",
    "10. The trend of glucose levels with age among diabetic and non-diabetic patients.\n"
   ]
  },
  {
   "cell_type": "code",
   "execution_count": null,
   "id": "2b2e281c",
   "metadata": {
    "papermill": {
     "duration": 0.003611,
     "end_time": "2024-12-23T19:24:43.789376",
     "exception": false,
     "start_time": "2024-12-23T19:24:43.785765",
     "status": "completed"
    },
    "tags": [],
    "vscode": {
     "languageId": "r"
    }
   },
   "outputs": [],
   "source": []
  },
  {
   "cell_type": "markdown",
   "id": "25e6b410",
   "metadata": {
    "papermill": {
     "duration": 0.003701,
     "end_time": "2024-12-23T19:24:43.796963",
     "exception": false,
     "start_time": "2024-12-23T19:24:43.793262",
     "status": "completed"
    },
    "tags": []
   },
   "source": [
    "# **PART 2: Answering Questions:**"
   ]
  },
  {
   "cell_type": "markdown",
   "id": "f51a31fb",
   "metadata": {
    "papermill": {
     "duration": 0.003722,
     "end_time": "2024-12-23T19:24:43.804219",
     "exception": false,
     "start_time": "2024-12-23T19:24:43.800497",
     "status": "completed"
    },
    "tags": []
   },
   "source": [
    "## **2.1 Write down the answers to those analytical questions.**\n",
    "\n",
    "1. Are higher glucose levels associated with a greater likelihood of diabetes?\n",
    "\n",
    "2. Are patients with high glucose concentrations also likely to have higher BMI values?\n",
    "\n",
    "3. Are patients with a higher number of pregnancies at greater risk of developing diabetes?\n",
    "\n",
    "4. Are older patients more likely to have higher insulin concentrations and blood glucose levels?\n",
    "\n",
    "5. Can you identify common “risk profiles” for diabetic patients based on key metrics (glucose, BMI, age, etc.)?\n"
   ]
  },
  {
   "cell_type": "code",
   "execution_count": null,
   "id": "a17271e1",
   "metadata": {
    "papermill": {
     "duration": 0.003545,
     "end_time": "2024-12-23T19:24:43.811431",
     "exception": false,
     "start_time": "2024-12-23T19:24:43.807886",
     "status": "completed"
    },
    "tags": [],
    "vscode": {
     "languageId": "r"
    }
   },
   "outputs": [],
   "source": []
  },
  {
   "cell_type": "markdown",
   "id": "e6cb1668",
   "metadata": {
    "papermill": {
     "duration": 0.003611,
     "end_time": "2024-12-23T19:24:43.818687",
     "exception": false,
     "start_time": "2024-12-23T19:24:43.815076",
     "status": "completed"
    },
    "tags": []
   },
   "source": [
    "## **2 .2 Come up with 5 more bivariate/multivariate analysis questions and similarly answer each with appropriate visuals and commentary.**"
   ]
  },
  {
   "cell_type": "code",
   "execution_count": null,
   "id": "b54b0af2",
   "metadata": {
    "papermill": {
     "duration": 0.003589,
     "end_time": "2024-12-23T19:24:43.825958",
     "exception": false,
     "start_time": "2024-12-23T19:24:43.822369",
     "status": "completed"
    },
    "tags": [],
    "vscode": {
     "languageId": "r"
    }
   },
   "outputs": [],
   "source": []
  },
  {
   "cell_type": "markdown",
   "id": "39250653",
   "metadata": {
    "papermill": {
     "duration": 0.003576,
     "end_time": "2024-12-23T19:24:43.833097",
     "exception": false,
     "start_time": "2024-12-23T19:24:43.829521",
     "status": "completed"
    },
    "tags": []
   },
   "source": [
    "# **PART 3: Hypothesis Testing:**"
   ]
  },
  {
   "cell_type": "markdown",
   "id": "2ee31462",
   "metadata": {
    "papermill": {
     "duration": 0.003615,
     "end_time": "2024-12-23T19:24:43.840526",
     "exception": false,
     "start_time": "2024-12-23T19:24:43.836911",
     "status": "completed"
    },
    "tags": []
   },
   "source": [
    "## **3.1 Formulate a hypothesis test to assess the validity of this claim given the available data:**\n",
    "1. State the test you will use and justify your choice.\n",
    "2. Clearly state the hypotheses.\n",
    "3. Conduct the test and report the result.\n",
    "4. Make a conclusion as to the validity of the claim, assume a significance level of 0.05.\n"
   ]
  },
  {
   "cell_type": "markdown",
   "id": "e01be6de",
   "metadata": {},
   "source": [
    "### **3.1.1**\n",
    "**Claim**: Patients with BMI over 30 have higher glucose levels than those with a BMI under 30. The difference in mean μ1 and μ0 will be the hypothesis test."
   ]
  },
  {
   "cell_type": "code",
   "execution_count": null,
   "id": "c6367d90",
   "metadata": {
    "papermill": {
     "duration": 0.003571,
     "end_time": "2024-12-23T19:24:43.847669",
     "exception": false,
     "start_time": "2024-12-23T19:24:43.844098",
     "status": "completed"
    },
    "tags": [],
    "vscode": {
     "languageId": "r"
    }
   },
   "outputs": [],
   "source": []
  },
  {
   "cell_type": "markdown",
   "id": "b6662ca4",
   "metadata": {
    "papermill": {
     "duration": 0.003655,
     "end_time": "2024-12-23T19:24:43.854982",
     "exception": false,
     "start_time": "2024-12-23T19:24:43.851327",
     "status": "completed"
    },
    "tags": []
   },
   "source": [
    "## **3.2 Come up with your own claim from the available data and conduct a hypothesis test for it following in the same steps.**\n"
   ]
  },
  {
   "cell_type": "code",
   "execution_count": null,
   "id": "77dc8ae9",
   "metadata": {
    "papermill": {
     "duration": 0.003514,
     "end_time": "2024-12-23T19:24:43.862027",
     "exception": false,
     "start_time": "2024-12-23T19:24:43.858513",
     "status": "completed"
    },
    "tags": [],
    "vscode": {
     "languageId": "r"
    }
   },
   "outputs": [],
   "source": []
  },
  {
   "cell_type": "markdown",
   "id": "144cf254",
   "metadata": {
    "papermill": {
     "duration": 0.00422,
     "end_time": "2024-12-23T19:24:43.869770",
     "exception": false,
     "start_time": "2024-12-23T19:24:43.865550",
     "status": "completed"
    },
    "tags": []
   },
   "source": [
    "# **PART 4: Simulation Task:**"
   ]
  },
  {
   "cell_type": "markdown",
   "id": "1da24f22",
   "metadata": {
    "papermill": {
     "duration": 0.003538,
     "end_time": "2024-12-23T19:24:43.876772",
     "exception": false,
     "start_time": "2024-12-23T19:24:43.873234",
     "status": "completed"
    },
    "tags": []
   },
   "source": [
    "## **4.1 Take 25 Random Samples of Size 15 from the Dataset**\n",
    "\n",
    "1. Select a relevant column from the dataset (e.g., Glucose, BMI, or Age).\n",
    "2. Generate 25 random samples, each containing 15 data points, from the selected column.\n",
    "3. For each sample, compute the mean and then calculate the 95% confidence interval for the sample mean.\n",
    "4. From your output, determine the proportion of these 25 confidence intervals that contain the true population mean of the selected column (e.g., mean glucose or BMI).\n"
   ]
  },
  {
   "cell_type": "code",
   "execution_count": null,
   "id": "db7a77aa",
   "metadata": {
    "papermill": {
     "duration": 0.003499,
     "end_time": "2024-12-23T19:24:43.883738",
     "exception": false,
     "start_time": "2024-12-23T19:24:43.880239",
     "status": "completed"
    },
    "tags": [],
    "vscode": {
     "languageId": "r"
    }
   },
   "outputs": [],
   "source": []
  },
  {
   "cell_type": "markdown",
   "id": "96e79fbb",
   "metadata": {
    "papermill": {
     "duration": 0.00378,
     "end_time": "2024-12-23T19:24:43.891451",
     "exception": false,
     "start_time": "2024-12-23T19:24:43.887671",
     "status": "completed"
    },
    "tags": []
   },
   "source": [
    "## 4.2 **Increase the Sample Size to 100**\n",
    "1. Now, take 25 random samples, each with a sample size of 100, from the same column you selected in part (a)..\n",
    "2. For each sample, compute the mean and calculate the 95% confidence intervals.\n",
    "3. Observe the following:\n",
    "    * Does the width of the confidence intervals increase or decrease?\n",
    "    * Does increasing the sample size result in more or fewer intervals containing the true population mean?\n",
    "4. Compare your findings with actual computations and interpret the results.\n"
   ]
  },
  {
   "cell_type": "code",
   "execution_count": null,
   "id": "16a47a45",
   "metadata": {
    "papermill": {
     "duration": 0.003604,
     "end_time": "2024-12-23T19:24:43.898700",
     "exception": false,
     "start_time": "2024-12-23T19:24:43.895096",
     "status": "completed"
    },
    "tags": [],
    "vscode": {
     "languageId": "r"
    }
   },
   "outputs": [],
   "source": []
  },
  {
   "cell_type": "markdown",
   "id": "f33babc9",
   "metadata": {
    "papermill": {
     "duration": 0.003554,
     "end_time": "2024-12-23T19:24:43.905851",
     "exception": false,
     "start_time": "2024-12-23T19:24:43.902297",
     "status": "completed"
    },
    "tags": []
   },
   "source": [
    "## **4.3 Take 20 Random Samples of Size 10 from the Dataset**\n",
    "1. Finally, generate 20 random samples, each with a sample size of 10, from the same selected column in the dataset.\n",
    "2. For each sample, compute the mean and determine the 95% confidence intervals.\n",
    "3. Evaluate the coverage proportion and analyze the relationship between sample size and the accuracy of confidence intervals.\n"
   ]
  },
  {
   "cell_type": "code",
   "execution_count": null,
   "id": "35a02659",
   "metadata": {
    "papermill": {
     "duration": 0.003623,
     "end_time": "2024-12-23T19:24:43.912961",
     "exception": false,
     "start_time": "2024-12-23T19:24:43.909338",
     "status": "completed"
    },
    "tags": [],
    "vscode": {
     "languageId": "r"
    }
   },
   "outputs": [],
   "source": []
  }
 ],
 "metadata": {
  "kaggle": {
   "accelerator": "none",
   "dataSources": [
    {
     "datasetId": 5922440,
     "sourceId": 9687881,
     "sourceType": "datasetVersion"
    }
   ],
   "dockerImageVersionId": 30749,
   "isGpuEnabled": false,
   "isInternetEnabled": true,
   "language": "r",
   "sourceType": "notebook"
  },
  "kernelspec": {
   "display_name": "R",
   "language": "R",
   "name": "ir"
  },
  "language_info": {
   "codemirror_mode": "r",
   "file_extension": ".r",
   "mimetype": "text/x-r-source",
   "name": "R",
   "pygments_lexer": "r",
   "version": "4.4.2"
  },
  "papermill": {
   "default_parameters": {},
   "duration": 5.222071,
   "end_time": "2024-12-23T19:24:44.037881",
   "environment_variables": {},
   "exception": null,
   "input_path": "__notebook__.ipynb",
   "output_path": "__notebook__.ipynb",
   "parameters": {},
   "start_time": "2024-12-23T19:24:38.815810",
   "version": "2.6.0"
  }
 },
 "nbformat": 4,
 "nbformat_minor": 5
}
