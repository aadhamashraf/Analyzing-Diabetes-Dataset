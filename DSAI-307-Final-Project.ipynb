{
 "cells": [
  {
   "cell_type": "code",
   "execution_count": 1,
   "id": "422734f9",
   "metadata": {
    "vscode": {
     "languageId": "r"
    }
   },
   "outputs": [
    {
     "name": "stderr",
     "output_type": "stream",
     "text": [
      "Installing package into 'C:/Users/Hozien/AppData/Local/R/win-library/4.4'\n",
      "(as 'lib' is unspecified)\n",
      "\n",
      "Warning message in download.file(url, destfile, method, mode = \"wb\", ...):\n",
      "\"downloaded length 1527928 != reported length 2668722\"\n",
      "Warning message in download.file(url, destfile, method, mode = \"wb\", ...):\n",
      "\"URL 'https://cran.r-project.org/bin/windows/contrib/4.4/colorspace_2.1-1.zip': Timeout of 60 seconds was reached\"\n"
     ]
    },
    {
     "name": "stdout",
     "output_type": "stream",
     "text": [
      "Error in download.file(url, destfile, method, mode = \"wb\", ...) : \n",
      "  download from 'https://cran.r-project.org/bin/windows/contrib/4.4/colorspace_2.1-1.zip' failed\n"
     ]
    },
    {
     "name": "stderr",
     "output_type": "stream",
     "text": [
      "Warning message in download.packages(pkgs, destdir = tmpd, available = available, :\n",
      "\"download of package 'colorspace' failed\"\n",
      "Installing package into 'C:/Users/Hozien/AppData/Local/R/win-library/4.4'\n",
      "(as 'lib' is unspecified)\n",
      "\n"
     ]
    },
    {
     "name": "stdout",
     "output_type": "stream",
     "text": [
      "package 'tidyverse' successfully unpacked and MD5 sums checked\n",
      "\n",
      "The downloaded binary packages are in\n",
      "\tC:\\Users\\Hozien\\AppData\\Local\\Temp\\RtmpyaFHVG\\downloaded_packages\n"
     ]
    },
    {
     "name": "stderr",
     "output_type": "stream",
     "text": [
      "Installing package into 'C:/Users/Hozien/AppData/Local/R/win-library/4.4'\n",
      "(as 'lib' is unspecified)\n",
      "\n",
      "Warning message in download.file(url, destfile, method, mode = \"wb\", ...):\n",
      "\"downloaded length 1375928 != reported length 1541988\"\n",
      "Warning message in download.file(url, destfile, method, mode = \"wb\", ...):\n",
      "\"URL 'https://cran.r-project.org/bin/windows/contrib/4.4/car_3.1-3.zip': Timeout of 60 seconds was reached\"\n"
     ]
    },
    {
     "name": "stdout",
     "output_type": "stream",
     "text": [
      "Error in download.file(url, destfile, method, mode = \"wb\", ...) : \n",
      "  download from 'https://cran.r-project.org/bin/windows/contrib/4.4/car_3.1-3.zip' failed\n"
     ]
    },
    {
     "name": "stderr",
     "output_type": "stream",
     "text": [
      "Warning message in download.packages(pkgs, destdir = tmpd, available = available, :\n",
      "\"download of package 'car' failed\"\n"
     ]
    }
   ],
   "source": [
    "install.packages(\"colorspace\")\n",
    "install.packages(\"tidyverse\")\n",
    "install.packages(\"car\")"
   ]
  },
  {
   "cell_type": "code",
   "execution_count": 1,
   "id": "a7a79759",
   "metadata": {
    "_execution_state": "idle",
    "_uuid": "051d70d956493feee0c6d64651c6a088724dca2a",
    "execution": {
     "iopub.execute_input": "2024-12-23T19:24:42.388892Z",
     "iopub.status.busy": "2024-12-23T19:24:42.386392Z",
     "iopub.status.idle": "2024-12-23T19:24:43.763928Z",
     "shell.execute_reply": "2024-12-23T19:24:43.762262Z"
    },
    "papermill": {
     "duration": 1.385999,
     "end_time": "2024-12-23T19:24:43.766312",
     "exception": false,
     "start_time": "2024-12-23T19:24:42.380313",
     "status": "completed"
    },
    "tags": [],
    "vscode": {
     "languageId": "r"
    }
   },
   "outputs": [
    {
     "name": "stderr",
     "output_type": "stream",
     "text": [
      "── \u001b[1mAttaching core tidyverse packages\u001b[22m ──────────────────────── tidyverse 2.0.0 ──\n",
      "\u001b[32m✔\u001b[39m \u001b[34mdplyr    \u001b[39m 1.1.4     \u001b[32m✔\u001b[39m \u001b[34mreadr    \u001b[39m 2.1.5\n",
      "\u001b[32m✔\u001b[39m \u001b[34mforcats  \u001b[39m 1.0.0     \u001b[32m✔\u001b[39m \u001b[34mstringr  \u001b[39m 1.5.1\n",
      "\u001b[32m✔\u001b[39m \u001b[34mggplot2  \u001b[39m 3.5.1     \u001b[32m✔\u001b[39m \u001b[34mtibble   \u001b[39m 3.2.1\n",
      "\u001b[32m✔\u001b[39m \u001b[34mlubridate\u001b[39m 1.9.4     \u001b[32m✔\u001b[39m \u001b[34mtidyr    \u001b[39m 1.3.1\n",
      "\u001b[32m✔\u001b[39m \u001b[34mpurrr    \u001b[39m 1.0.2     \n",
      "── \u001b[1mConflicts\u001b[22m ────────────────────────────────────────── tidyverse_conflicts() ──\n",
      "\u001b[31m✖\u001b[39m \u001b[34mdplyr\u001b[39m::\u001b[32mfilter()\u001b[39m masks \u001b[34mstats\u001b[39m::filter()\n",
      "\u001b[31m✖\u001b[39m \u001b[34mdplyr\u001b[39m::\u001b[32mlag()\u001b[39m    masks \u001b[34mstats\u001b[39m::lag()\n",
      "\u001b[36mℹ\u001b[39m Use the conflicted package (\u001b[3m\u001b[34m<http://conflicted.r-lib.org/>\u001b[39m\u001b[23m) to force all conflicts to become errors\n",
      "Loading required package: carData\n",
      "\n",
      "\n",
      "Attaching package: 'car'\n",
      "\n",
      "\n",
      "The following object is masked from 'package:dplyr':\n",
      "\n",
      "    recode\n",
      "\n",
      "\n",
      "The following object is masked from 'package:purrr':\n",
      "\n",
      "    some\n",
      "\n",
      "\n"
     ]
    }
   ],
   "source": [
    "\n",
    "library(tidyverse) # metapackage of all tidyverse packages\n",
    "library(car) # for the vif function to check for multicollinearity\n",
    "library(dplyr) # for data manipulation\n",
    "library(ggplot2) # for data visualization\n",
    "library(readr) # for data import\n",
    "library(tidyr) # for data tidying\n"
   ]
  },
  {
   "cell_type": "code",
   "execution_count": 19,
   "id": "723b97c3",
   "metadata": {
    "vscode": {
     "languageId": "r"
    }
   },
   "outputs": [],
   "source": [
    "# importing utilities.R\n",
    "source(\"utilities.R\")"
   ]
  },
  {
   "cell_type": "code",
   "execution_count": 3,
   "id": "4d4e8748",
   "metadata": {
    "vscode": {
     "languageId": "r"
    }
   },
   "outputs": [
    {
     "name": "stderr",
     "output_type": "stream",
     "text": [
      "\u001b[1mRows: \u001b[22m\u001b[34m768\u001b[39m \u001b[1mColumns: \u001b[22m\u001b[34m9\u001b[39m\n",
      "\u001b[36m──\u001b[39m \u001b[1mColumn specification\u001b[22m \u001b[36m────────────────────────────────────────────────────────\u001b[39m\n",
      "\u001b[1mDelimiter:\u001b[22m \",\"\n",
      "\u001b[32mdbl\u001b[39m (9): Pregnancies, Glucose, BloodPressure, SkinThickness, Insulin, BMI, D...\n",
      "\n",
      "\u001b[36mℹ\u001b[39m Use `spec()` to retrieve the full column specification for this data.\n",
      "\u001b[36mℹ\u001b[39m Specify the column types or set `show_col_types = FALSE` to quiet this message.\n"
     ]
    }
   ],
   "source": [
    "diabetes_data <- read_csv(\"diabetes.csv\")\n"
   ]
  },
  {
   "cell_type": "code",
   "execution_count": 4,
   "id": "cc85814f",
   "metadata": {
    "vscode": {
     "languageId": "r"
    }
   },
   "outputs": [
    {
     "name": "stderr",
     "output_type": "stream",
     "text": [
      "Warning message:\n",
      "\"\u001b[1m\u001b[22m`funs()` was deprecated in dplyr 0.8.0.\n",
      "\u001b[36mℹ\u001b[39m Please use a list of either functions or lambdas:\n",
      "\n",
      "# Simple named list: list(mean = mean, median = median)\n",
      "\n",
      "# Auto named with `tibble::lst()`: tibble::lst(mean, median)\n",
      "\n",
      "# Using lambdas list(~ mean(., trim = .2), ~ median(., na.rm = TRUE))\"\n"
     ]
    },
    {
     "data": {
      "text/html": [
       "<table class=\"dataframe\">\n",
       "<caption>A tibble: 1 × 9</caption>\n",
       "<thead>\n",
       "\t<tr><th scope=col>Pregnancies</th><th scope=col>Glucose</th><th scope=col>BloodPressure</th><th scope=col>SkinThickness</th><th scope=col>Insulin</th><th scope=col>BMI</th><th scope=col>DiabetesPedigreeFunction</th><th scope=col>Age</th><th scope=col>Outcome</th></tr>\n",
       "\t<tr><th scope=col>&lt;int&gt;</th><th scope=col>&lt;int&gt;</th><th scope=col>&lt;int&gt;</th><th scope=col>&lt;int&gt;</th><th scope=col>&lt;int&gt;</th><th scope=col>&lt;int&gt;</th><th scope=col>&lt;int&gt;</th><th scope=col>&lt;int&gt;</th><th scope=col>&lt;int&gt;</th></tr>\n",
       "</thead>\n",
       "<tbody>\n",
       "\t<tr><td>0</td><td>0</td><td>0</td><td>0</td><td>0</td><td>0</td><td>0</td><td>0</td><td>0</td></tr>\n",
       "</tbody>\n",
       "</table>\n"
      ],
      "text/latex": [
       "A tibble: 1 × 9\n",
       "\\begin{tabular}{lllllllll}\n",
       " Pregnancies & Glucose & BloodPressure & SkinThickness & Insulin & BMI & DiabetesPedigreeFunction & Age & Outcome\\\\\n",
       " <int> & <int> & <int> & <int> & <int> & <int> & <int> & <int> & <int>\\\\\n",
       "\\hline\n",
       "\t 0 & 0 & 0 & 0 & 0 & 0 & 0 & 0 & 0\\\\\n",
       "\\end{tabular}\n"
      ],
      "text/markdown": [
       "\n",
       "A tibble: 1 × 9\n",
       "\n",
       "| Pregnancies &lt;int&gt; | Glucose &lt;int&gt; | BloodPressure &lt;int&gt; | SkinThickness &lt;int&gt; | Insulin &lt;int&gt; | BMI &lt;int&gt; | DiabetesPedigreeFunction &lt;int&gt; | Age &lt;int&gt; | Outcome &lt;int&gt; |\n",
       "|---|---|---|---|---|---|---|---|---|\n",
       "| 0 | 0 | 0 | 0 | 0 | 0 | 0 | 0 | 0 |\n",
       "\n"
      ],
      "text/plain": [
       "  Pregnancies Glucose BloodPressure SkinThickness Insulin BMI\n",
       "1 0           0       0             0             0       0  \n",
       "  DiabetesPedigreeFunction Age Outcome\n",
       "1 0                        0   0      "
      ]
     },
     "metadata": {},
     "output_type": "display_data"
    }
   ],
   "source": [
    "# checking nulls\n",
    "diabetes_data %>%\n",
    "  summarise_all(funs(sum(is.na(.))))"
   ]
  },
  {
   "cell_type": "markdown",
   "id": "0a53404c",
   "metadata": {
    "papermill": {
     "duration": 0.004042,
     "end_time": "2024-12-23T19:24:43.774393",
     "exception": false,
     "start_time": "2024-12-23T19:24:43.770351",
     "status": "completed"
    },
    "tags": []
   },
   "source": [
    "# **PART 1: Exploratory Analysis:**"
   ]
  },
  {
   "cell_type": "markdown",
   "id": "d677485c",
   "metadata": {
    "papermill": {
     "duration": 0.003708,
     "end_time": "2024-12-23T19:24:43.782143",
     "exception": false,
     "start_time": "2024-12-23T19:24:43.778435",
     "status": "completed"
    },
    "tags": []
   },
   "source": [
    "1. The average glucose levels among patients with and without diabetes.\n",
    "2. The average age of patients with and without diabetes.\n",
    "3. The average blood pressure measurements across diabetic and non-diabetic groups.\n",
    "4. The average BMI of diabetic versus non-diabetic patients. \n",
    "5. The rate of diabetes among patients in the dataset.\n",
    "6. The distribution of BMI values among all patients.\n",
    "7. The distribution of Diabetes Pedigree Function (DPF) values for diabetic and non-diabetic patients.\n",
    "8. The relationship between the number of pregnancies and diabetes occurrence.\n",
    "9. The correlation between glucose levels and BMI.\n",
    "10. The trend of glucose levels with age among diabetic and non-diabetic patients.\n"
   ]
  },
  {
   "cell_type": "code",
   "execution_count": null,
   "id": "2b2e281c",
   "metadata": {
    "papermill": {
     "duration": 0.003611,
     "end_time": "2024-12-23T19:24:43.789376",
     "exception": false,
     "start_time": "2024-12-23T19:24:43.785765",
     "status": "completed"
    },
    "tags": [],
    "vscode": {
     "languageId": "r"
    }
   },
   "outputs": [],
   "source": []
  },
  {
   "cell_type": "markdown",
   "id": "25e6b410",
   "metadata": {
    "papermill": {
     "duration": 0.003701,
     "end_time": "2024-12-23T19:24:43.796963",
     "exception": false,
     "start_time": "2024-12-23T19:24:43.793262",
     "status": "completed"
    },
    "tags": []
   },
   "source": [
    "# **PART 2: Answering Questions:**"
   ]
  },
  {
   "cell_type": "markdown",
   "id": "f51a31fb",
   "metadata": {
    "papermill": {
     "duration": 0.003722,
     "end_time": "2024-12-23T19:24:43.804219",
     "exception": false,
     "start_time": "2024-12-23T19:24:43.800497",
     "status": "completed"
    },
    "tags": []
   },
   "source": [
    "## **2.1 Write down the answers to those analytical questions.**\n",
    "\n",
    "1. Are higher glucose levels associated with a greater likelihood of diabetes?\n",
    "\n",
    "2. Are patients with high glucose concentrations also likely to have higher BMI values?\n",
    "\n",
    "3. Are patients with a higher number of pregnancies at greater risk of developing diabetes?\n",
    "\n",
    "4. Are older patients more likely to have higher insulin concentrations and blood glucose levels?\n",
    "\n",
    "5. Can you identify common “risk profiles” for diabetic patients based on key metrics (glucose, BMI, age, etc.)?\n"
   ]
  },
  {
   "cell_type": "code",
   "execution_count": null,
   "id": "a17271e1",
   "metadata": {
    "papermill": {
     "duration": 0.003545,
     "end_time": "2024-12-23T19:24:43.811431",
     "exception": false,
     "start_time": "2024-12-23T19:24:43.807886",
     "status": "completed"
    },
    "tags": [],
    "vscode": {
     "languageId": "r"
    }
   },
   "outputs": [],
   "source": []
  },
  {
   "cell_type": "markdown",
   "id": "e6cb1668",
   "metadata": {
    "papermill": {
     "duration": 0.003611,
     "end_time": "2024-12-23T19:24:43.818687",
     "exception": false,
     "start_time": "2024-12-23T19:24:43.815076",
     "status": "completed"
    },
    "tags": []
   },
   "source": [
    "## **2 .2 Come up with 5 more bivariate/multivariate analysis questions and similarly answer each with appropriate visuals and commentary.**"
   ]
  },
  {
   "cell_type": "code",
   "execution_count": null,
   "id": "b54b0af2",
   "metadata": {
    "papermill": {
     "duration": 0.003589,
     "end_time": "2024-12-23T19:24:43.825958",
     "exception": false,
     "start_time": "2024-12-23T19:24:43.822369",
     "status": "completed"
    },
    "tags": [],
    "vscode": {
     "languageId": "r"
    }
   },
   "outputs": [],
   "source": []
  },
  {
   "cell_type": "markdown",
   "id": "39250653",
   "metadata": {
    "papermill": {
     "duration": 0.003576,
     "end_time": "2024-12-23T19:24:43.833097",
     "exception": false,
     "start_time": "2024-12-23T19:24:43.829521",
     "status": "completed"
    },
    "tags": []
   },
   "source": [
    "# **PART 3: Hypothesis Testing:**"
   ]
  },
  {
   "cell_type": "markdown",
   "id": "2ee31462",
   "metadata": {
    "papermill": {
     "duration": 0.003615,
     "end_time": "2024-12-23T19:24:43.840526",
     "exception": false,
     "start_time": "2024-12-23T19:24:43.836911",
     "status": "completed"
    },
    "tags": []
   },
   "source": [
    "## **3.1 Formulate a hypothesis test to assess the validity of this claim given the available data:**\n",
    "1. State the test you will use and justify your choice.\n",
    "2. Clearly state the hypotheses.\n",
    "3. Conduct the test and report the result.\n",
    "4. Make a conclusion as to the validity of the claim, assume a significance level of 0.05.\n"
   ]
  },
  {
   "cell_type": "markdown",
   "id": "e01be6de",
   "metadata": {},
   "source": [
    "### **3.1**\n",
    "**Claim + Hypothesis**:\n",
    "Patients with BMI over 30 have higher glucose levels than those with a BMI under 30.\n",
    "\n",
    "**Justification**:\n",
    "- using independent t-test to compare the mean glucose levels between two BMI groups (\"Obese\", \"non-Obese\").\n",
    "- since the depenent variable **Glucose** is continous and the independent variable **BMI** is categorical, the t-test is an appropriate test to use."
   ]
  },
  {
   "cell_type": "code",
   "execution_count": 12,
   "id": "618bf96e",
   "metadata": {
    "vscode": {
     "languageId": "r"
    }
   },
   "outputs": [
    {
     "name": "stderr",
     "output_type": "stream",
     "text": [
      "\u001b[1mRows: \u001b[22m\u001b[34m768\u001b[39m \u001b[1mColumns: \u001b[22m\u001b[34m9\u001b[39m\n",
      "\u001b[36m──\u001b[39m \u001b[1mColumn specification\u001b[22m \u001b[36m────────────────────────────────────────────────────────\u001b[39m\n",
      "\u001b[1mDelimiter:\u001b[22m \",\"\n",
      "\u001b[32mdbl\u001b[39m (9): Pregnancies, Glucose, BloodPressure, SkinThickness, Insulin, BMI, D...\n",
      "\n",
      "\u001b[36mℹ\u001b[39m Use `spec()` to retrieve the full column specification for this data.\n",
      "\u001b[36mℹ\u001b[39m Specify the column types or set `show_col_types = FALSE` to quiet this message.\n"
     ]
    }
   ],
   "source": [
    "# Read and preprocess data\n",
    "diabetes_data3 <- read_csv(\"diabetes.csv\") %>%\n",
    "  mutate(across(everything(), as.numeric)) %>%\n",
    "  mutate(bmi_group = ifelse(BMI > 30, \"Obese\", \"Non-obese\"),\n",
    "         diabetes_status = ifelse(Outcome == 1, \"Diabetic\", \"Non-diabetic\"))"
   ]
  },
  {
   "cell_type": "code",
   "execution_count": 25,
   "id": "2879017f",
   "metadata": {
    "vscode": {
     "languageId": "r"
    }
   },
   "outputs": [
    {
     "data": {
      "text/html": [
       "<table class=\"dataframe\">\n",
       "<caption>A tibble: 768 × 11</caption>\n",
       "<thead>\n",
       "\t<tr><th scope=col>Pregnancies</th><th scope=col>Glucose</th><th scope=col>BloodPressure</th><th scope=col>SkinThickness</th><th scope=col>Insulin</th><th scope=col>BMI</th><th scope=col>DiabetesPedigreeFunction</th><th scope=col>Age</th><th scope=col>Outcome</th><th scope=col>bmi_group</th><th scope=col>diabetes_status</th></tr>\n",
       "\t<tr><th scope=col>&lt;dbl&gt;</th><th scope=col>&lt;dbl&gt;</th><th scope=col>&lt;dbl&gt;</th><th scope=col>&lt;dbl&gt;</th><th scope=col>&lt;dbl&gt;</th><th scope=col>&lt;dbl&gt;</th><th scope=col>&lt;dbl&gt;</th><th scope=col>&lt;dbl&gt;</th><th scope=col>&lt;dbl&gt;</th><th scope=col>&lt;chr&gt;</th><th scope=col>&lt;chr&gt;</th></tr>\n",
       "</thead>\n",
       "<tbody>\n",
       "\t<tr><td> 6</td><td>148</td><td>72</td><td>35</td><td>  0</td><td>33.6</td><td>0.627</td><td>50</td><td>1</td><td>Obese    </td><td>Diabetic    </td></tr>\n",
       "\t<tr><td> 1</td><td> 85</td><td>66</td><td>29</td><td>  0</td><td>26.6</td><td>0.351</td><td>31</td><td>0</td><td>Non-obese</td><td>Non-diabetic</td></tr>\n",
       "\t<tr><td> 8</td><td>183</td><td>64</td><td> 0</td><td>  0</td><td>23.3</td><td>0.672</td><td>32</td><td>1</td><td>Non-obese</td><td>Diabetic    </td></tr>\n",
       "\t<tr><td> 1</td><td> 89</td><td>66</td><td>23</td><td> 94</td><td>28.1</td><td>0.167</td><td>21</td><td>0</td><td>Non-obese</td><td>Non-diabetic</td></tr>\n",
       "\t<tr><td> 0</td><td>137</td><td>40</td><td>35</td><td>168</td><td>43.1</td><td>2.288</td><td>33</td><td>1</td><td>Obese    </td><td>Diabetic    </td></tr>\n",
       "\t<tr><td> 5</td><td>116</td><td>74</td><td> 0</td><td>  0</td><td>25.6</td><td>0.201</td><td>30</td><td>0</td><td>Non-obese</td><td>Non-diabetic</td></tr>\n",
       "\t<tr><td> 3</td><td> 78</td><td>50</td><td>32</td><td> 88</td><td>31.0</td><td>0.248</td><td>26</td><td>1</td><td>Obese    </td><td>Diabetic    </td></tr>\n",
       "\t<tr><td>10</td><td>115</td><td> 0</td><td> 0</td><td>  0</td><td>35.3</td><td>0.134</td><td>29</td><td>0</td><td>Obese    </td><td>Non-diabetic</td></tr>\n",
       "\t<tr><td> 2</td><td>197</td><td>70</td><td>45</td><td>543</td><td>30.5</td><td>0.158</td><td>53</td><td>1</td><td>Obese    </td><td>Diabetic    </td></tr>\n",
       "\t<tr><td> 8</td><td>125</td><td>96</td><td> 0</td><td>  0</td><td> 0.0</td><td>0.232</td><td>54</td><td>1</td><td>Non-obese</td><td>Diabetic    </td></tr>\n",
       "\t<tr><td> 4</td><td>110</td><td>92</td><td> 0</td><td>  0</td><td>37.6</td><td>0.191</td><td>30</td><td>0</td><td>Obese    </td><td>Non-diabetic</td></tr>\n",
       "\t<tr><td>10</td><td>168</td><td>74</td><td> 0</td><td>  0</td><td>38.0</td><td>0.537</td><td>34</td><td>1</td><td>Obese    </td><td>Diabetic    </td></tr>\n",
       "\t<tr><td>10</td><td>139</td><td>80</td><td> 0</td><td>  0</td><td>27.1</td><td>1.441</td><td>57</td><td>0</td><td>Non-obese</td><td>Non-diabetic</td></tr>\n",
       "\t<tr><td> 1</td><td>189</td><td>60</td><td>23</td><td>846</td><td>30.1</td><td>0.398</td><td>59</td><td>1</td><td>Obese    </td><td>Diabetic    </td></tr>\n",
       "\t<tr><td> 5</td><td>166</td><td>72</td><td>19</td><td>175</td><td>25.8</td><td>0.587</td><td>51</td><td>1</td><td>Non-obese</td><td>Diabetic    </td></tr>\n",
       "\t<tr><td> 7</td><td>100</td><td> 0</td><td> 0</td><td>  0</td><td>30.0</td><td>0.484</td><td>32</td><td>1</td><td>Non-obese</td><td>Diabetic    </td></tr>\n",
       "\t<tr><td> 0</td><td>118</td><td>84</td><td>47</td><td>230</td><td>45.8</td><td>0.551</td><td>31</td><td>1</td><td>Obese    </td><td>Diabetic    </td></tr>\n",
       "\t<tr><td> 7</td><td>107</td><td>74</td><td> 0</td><td>  0</td><td>29.6</td><td>0.254</td><td>31</td><td>1</td><td>Non-obese</td><td>Diabetic    </td></tr>\n",
       "\t<tr><td> 1</td><td>103</td><td>30</td><td>38</td><td> 83</td><td>43.3</td><td>0.183</td><td>33</td><td>0</td><td>Obese    </td><td>Non-diabetic</td></tr>\n",
       "\t<tr><td> 1</td><td>115</td><td>70</td><td>30</td><td> 96</td><td>34.6</td><td>0.529</td><td>32</td><td>1</td><td>Obese    </td><td>Diabetic    </td></tr>\n",
       "\t<tr><td> 3</td><td>126</td><td>88</td><td>41</td><td>235</td><td>39.3</td><td>0.704</td><td>27</td><td>0</td><td>Obese    </td><td>Non-diabetic</td></tr>\n",
       "\t<tr><td> 8</td><td> 99</td><td>84</td><td> 0</td><td>  0</td><td>35.4</td><td>0.388</td><td>50</td><td>0</td><td>Obese    </td><td>Non-diabetic</td></tr>\n",
       "\t<tr><td> 7</td><td>196</td><td>90</td><td> 0</td><td>  0</td><td>39.8</td><td>0.451</td><td>41</td><td>1</td><td>Obese    </td><td>Diabetic    </td></tr>\n",
       "\t<tr><td> 9</td><td>119</td><td>80</td><td>35</td><td>  0</td><td>29.0</td><td>0.263</td><td>29</td><td>1</td><td>Non-obese</td><td>Diabetic    </td></tr>\n",
       "\t<tr><td>11</td><td>143</td><td>94</td><td>33</td><td>146</td><td>36.6</td><td>0.254</td><td>51</td><td>1</td><td>Obese    </td><td>Diabetic    </td></tr>\n",
       "\t<tr><td>10</td><td>125</td><td>70</td><td>26</td><td>115</td><td>31.1</td><td>0.205</td><td>41</td><td>1</td><td>Obese    </td><td>Diabetic    </td></tr>\n",
       "\t<tr><td> 7</td><td>147</td><td>76</td><td> 0</td><td>  0</td><td>39.4</td><td>0.257</td><td>43</td><td>1</td><td>Obese    </td><td>Diabetic    </td></tr>\n",
       "\t<tr><td> 1</td><td> 97</td><td>66</td><td>15</td><td>140</td><td>23.2</td><td>0.487</td><td>22</td><td>0</td><td>Non-obese</td><td>Non-diabetic</td></tr>\n",
       "\t<tr><td>13</td><td>145</td><td>82</td><td>19</td><td>110</td><td>22.2</td><td>0.245</td><td>57</td><td>0</td><td>Non-obese</td><td>Non-diabetic</td></tr>\n",
       "\t<tr><td> 5</td><td>117</td><td>92</td><td> 0</td><td>  0</td><td>34.1</td><td>0.337</td><td>38</td><td>0</td><td>Obese    </td><td>Non-diabetic</td></tr>\n",
       "\t<tr><td>⋮</td><td>⋮</td><td>⋮</td><td>⋮</td><td>⋮</td><td>⋮</td><td>⋮</td><td>⋮</td><td>⋮</td><td>⋮</td><td>⋮</td></tr>\n",
       "\t<tr><td> 2</td><td> 99</td><td>60</td><td>17</td><td>160</td><td>36.6</td><td>0.453</td><td>21</td><td>0</td><td>Obese    </td><td>Non-diabetic</td></tr>\n",
       "\t<tr><td> 1</td><td>102</td><td>74</td><td> 0</td><td>  0</td><td>39.5</td><td>0.293</td><td>42</td><td>1</td><td>Obese    </td><td>Diabetic    </td></tr>\n",
       "\t<tr><td>11</td><td>120</td><td>80</td><td>37</td><td>150</td><td>42.3</td><td>0.785</td><td>48</td><td>1</td><td>Obese    </td><td>Diabetic    </td></tr>\n",
       "\t<tr><td> 3</td><td>102</td><td>44</td><td>20</td><td> 94</td><td>30.8</td><td>0.400</td><td>26</td><td>0</td><td>Obese    </td><td>Non-diabetic</td></tr>\n",
       "\t<tr><td> 1</td><td>109</td><td>58</td><td>18</td><td>116</td><td>28.5</td><td>0.219</td><td>22</td><td>0</td><td>Non-obese</td><td>Non-diabetic</td></tr>\n",
       "\t<tr><td> 9</td><td>140</td><td>94</td><td> 0</td><td>  0</td><td>32.7</td><td>0.734</td><td>45</td><td>1</td><td>Obese    </td><td>Diabetic    </td></tr>\n",
       "\t<tr><td>13</td><td>153</td><td>88</td><td>37</td><td>140</td><td>40.6</td><td>1.174</td><td>39</td><td>0</td><td>Obese    </td><td>Non-diabetic</td></tr>\n",
       "\t<tr><td>12</td><td>100</td><td>84</td><td>33</td><td>105</td><td>30.0</td><td>0.488</td><td>46</td><td>0</td><td>Non-obese</td><td>Non-diabetic</td></tr>\n",
       "\t<tr><td> 1</td><td>147</td><td>94</td><td>41</td><td>  0</td><td>49.3</td><td>0.358</td><td>27</td><td>1</td><td>Obese    </td><td>Diabetic    </td></tr>\n",
       "\t<tr><td> 1</td><td> 81</td><td>74</td><td>41</td><td> 57</td><td>46.3</td><td>1.096</td><td>32</td><td>0</td><td>Obese    </td><td>Non-diabetic</td></tr>\n",
       "\t<tr><td> 3</td><td>187</td><td>70</td><td>22</td><td>200</td><td>36.4</td><td>0.408</td><td>36</td><td>1</td><td>Obese    </td><td>Diabetic    </td></tr>\n",
       "\t<tr><td> 6</td><td>162</td><td>62</td><td> 0</td><td>  0</td><td>24.3</td><td>0.178</td><td>50</td><td>1</td><td>Non-obese</td><td>Diabetic    </td></tr>\n",
       "\t<tr><td> 4</td><td>136</td><td>70</td><td> 0</td><td>  0</td><td>31.2</td><td>1.182</td><td>22</td><td>1</td><td>Obese    </td><td>Diabetic    </td></tr>\n",
       "\t<tr><td> 1</td><td>121</td><td>78</td><td>39</td><td> 74</td><td>39.0</td><td>0.261</td><td>28</td><td>0</td><td>Obese    </td><td>Non-diabetic</td></tr>\n",
       "\t<tr><td> 3</td><td>108</td><td>62</td><td>24</td><td>  0</td><td>26.0</td><td>0.223</td><td>25</td><td>0</td><td>Non-obese</td><td>Non-diabetic</td></tr>\n",
       "\t<tr><td> 0</td><td>181</td><td>88</td><td>44</td><td>510</td><td>43.3</td><td>0.222</td><td>26</td><td>1</td><td>Obese    </td><td>Diabetic    </td></tr>\n",
       "\t<tr><td> 8</td><td>154</td><td>78</td><td>32</td><td>  0</td><td>32.4</td><td>0.443</td><td>45</td><td>1</td><td>Obese    </td><td>Diabetic    </td></tr>\n",
       "\t<tr><td> 1</td><td>128</td><td>88</td><td>39</td><td>110</td><td>36.5</td><td>1.057</td><td>37</td><td>1</td><td>Obese    </td><td>Diabetic    </td></tr>\n",
       "\t<tr><td> 7</td><td>137</td><td>90</td><td>41</td><td>  0</td><td>32.0</td><td>0.391</td><td>39</td><td>0</td><td>Obese    </td><td>Non-diabetic</td></tr>\n",
       "\t<tr><td> 0</td><td>123</td><td>72</td><td> 0</td><td>  0</td><td>36.3</td><td>0.258</td><td>52</td><td>1</td><td>Obese    </td><td>Diabetic    </td></tr>\n",
       "\t<tr><td> 1</td><td>106</td><td>76</td><td> 0</td><td>  0</td><td>37.5</td><td>0.197</td><td>26</td><td>0</td><td>Obese    </td><td>Non-diabetic</td></tr>\n",
       "\t<tr><td> 6</td><td>190</td><td>92</td><td> 0</td><td>  0</td><td>35.5</td><td>0.278</td><td>66</td><td>1</td><td>Obese    </td><td>Diabetic    </td></tr>\n",
       "\t<tr><td> 2</td><td> 88</td><td>58</td><td>26</td><td> 16</td><td>28.4</td><td>0.766</td><td>22</td><td>0</td><td>Non-obese</td><td>Non-diabetic</td></tr>\n",
       "\t<tr><td> 9</td><td>170</td><td>74</td><td>31</td><td>  0</td><td>44.0</td><td>0.403</td><td>43</td><td>1</td><td>Obese    </td><td>Diabetic    </td></tr>\n",
       "\t<tr><td> 9</td><td> 89</td><td>62</td><td> 0</td><td>  0</td><td>22.5</td><td>0.142</td><td>33</td><td>0</td><td>Non-obese</td><td>Non-diabetic</td></tr>\n",
       "\t<tr><td>10</td><td>101</td><td>76</td><td>48</td><td>180</td><td>32.9</td><td>0.171</td><td>63</td><td>0</td><td>Obese    </td><td>Non-diabetic</td></tr>\n",
       "\t<tr><td> 2</td><td>122</td><td>70</td><td>27</td><td>  0</td><td>36.8</td><td>0.340</td><td>27</td><td>0</td><td>Obese    </td><td>Non-diabetic</td></tr>\n",
       "\t<tr><td> 5</td><td>121</td><td>72</td><td>23</td><td>112</td><td>26.2</td><td>0.245</td><td>30</td><td>0</td><td>Non-obese</td><td>Non-diabetic</td></tr>\n",
       "\t<tr><td> 1</td><td>126</td><td>60</td><td> 0</td><td>  0</td><td>30.1</td><td>0.349</td><td>47</td><td>1</td><td>Obese    </td><td>Diabetic    </td></tr>\n",
       "\t<tr><td> 1</td><td> 93</td><td>70</td><td>31</td><td>  0</td><td>30.4</td><td>0.315</td><td>23</td><td>0</td><td>Obese    </td><td>Non-diabetic</td></tr>\n",
       "</tbody>\n",
       "</table>\n"
      ],
      "text/latex": [
       "A tibble: 768 × 11\n",
       "\\begin{tabular}{lllllllllll}\n",
       " Pregnancies & Glucose & BloodPressure & SkinThickness & Insulin & BMI & DiabetesPedigreeFunction & Age & Outcome & bmi\\_group & diabetes\\_status\\\\\n",
       " <dbl> & <dbl> & <dbl> & <dbl> & <dbl> & <dbl> & <dbl> & <dbl> & <dbl> & <chr> & <chr>\\\\\n",
       "\\hline\n",
       "\t  6 & 148 & 72 & 35 &   0 & 33.6 & 0.627 & 50 & 1 & Obese     & Diabetic    \\\\\n",
       "\t  1 &  85 & 66 & 29 &   0 & 26.6 & 0.351 & 31 & 0 & Non-obese & Non-diabetic\\\\\n",
       "\t  8 & 183 & 64 &  0 &   0 & 23.3 & 0.672 & 32 & 1 & Non-obese & Diabetic    \\\\\n",
       "\t  1 &  89 & 66 & 23 &  94 & 28.1 & 0.167 & 21 & 0 & Non-obese & Non-diabetic\\\\\n",
       "\t  0 & 137 & 40 & 35 & 168 & 43.1 & 2.288 & 33 & 1 & Obese     & Diabetic    \\\\\n",
       "\t  5 & 116 & 74 &  0 &   0 & 25.6 & 0.201 & 30 & 0 & Non-obese & Non-diabetic\\\\\n",
       "\t  3 &  78 & 50 & 32 &  88 & 31.0 & 0.248 & 26 & 1 & Obese     & Diabetic    \\\\\n",
       "\t 10 & 115 &  0 &  0 &   0 & 35.3 & 0.134 & 29 & 0 & Obese     & Non-diabetic\\\\\n",
       "\t  2 & 197 & 70 & 45 & 543 & 30.5 & 0.158 & 53 & 1 & Obese     & Diabetic    \\\\\n",
       "\t  8 & 125 & 96 &  0 &   0 &  0.0 & 0.232 & 54 & 1 & Non-obese & Diabetic    \\\\\n",
       "\t  4 & 110 & 92 &  0 &   0 & 37.6 & 0.191 & 30 & 0 & Obese     & Non-diabetic\\\\\n",
       "\t 10 & 168 & 74 &  0 &   0 & 38.0 & 0.537 & 34 & 1 & Obese     & Diabetic    \\\\\n",
       "\t 10 & 139 & 80 &  0 &   0 & 27.1 & 1.441 & 57 & 0 & Non-obese & Non-diabetic\\\\\n",
       "\t  1 & 189 & 60 & 23 & 846 & 30.1 & 0.398 & 59 & 1 & Obese     & Diabetic    \\\\\n",
       "\t  5 & 166 & 72 & 19 & 175 & 25.8 & 0.587 & 51 & 1 & Non-obese & Diabetic    \\\\\n",
       "\t  7 & 100 &  0 &  0 &   0 & 30.0 & 0.484 & 32 & 1 & Non-obese & Diabetic    \\\\\n",
       "\t  0 & 118 & 84 & 47 & 230 & 45.8 & 0.551 & 31 & 1 & Obese     & Diabetic    \\\\\n",
       "\t  7 & 107 & 74 &  0 &   0 & 29.6 & 0.254 & 31 & 1 & Non-obese & Diabetic    \\\\\n",
       "\t  1 & 103 & 30 & 38 &  83 & 43.3 & 0.183 & 33 & 0 & Obese     & Non-diabetic\\\\\n",
       "\t  1 & 115 & 70 & 30 &  96 & 34.6 & 0.529 & 32 & 1 & Obese     & Diabetic    \\\\\n",
       "\t  3 & 126 & 88 & 41 & 235 & 39.3 & 0.704 & 27 & 0 & Obese     & Non-diabetic\\\\\n",
       "\t  8 &  99 & 84 &  0 &   0 & 35.4 & 0.388 & 50 & 0 & Obese     & Non-diabetic\\\\\n",
       "\t  7 & 196 & 90 &  0 &   0 & 39.8 & 0.451 & 41 & 1 & Obese     & Diabetic    \\\\\n",
       "\t  9 & 119 & 80 & 35 &   0 & 29.0 & 0.263 & 29 & 1 & Non-obese & Diabetic    \\\\\n",
       "\t 11 & 143 & 94 & 33 & 146 & 36.6 & 0.254 & 51 & 1 & Obese     & Diabetic    \\\\\n",
       "\t 10 & 125 & 70 & 26 & 115 & 31.1 & 0.205 & 41 & 1 & Obese     & Diabetic    \\\\\n",
       "\t  7 & 147 & 76 &  0 &   0 & 39.4 & 0.257 & 43 & 1 & Obese     & Diabetic    \\\\\n",
       "\t  1 &  97 & 66 & 15 & 140 & 23.2 & 0.487 & 22 & 0 & Non-obese & Non-diabetic\\\\\n",
       "\t 13 & 145 & 82 & 19 & 110 & 22.2 & 0.245 & 57 & 0 & Non-obese & Non-diabetic\\\\\n",
       "\t  5 & 117 & 92 &  0 &   0 & 34.1 & 0.337 & 38 & 0 & Obese     & Non-diabetic\\\\\n",
       "\t ⋮ & ⋮ & ⋮ & ⋮ & ⋮ & ⋮ & ⋮ & ⋮ & ⋮ & ⋮ & ⋮\\\\\n",
       "\t  2 &  99 & 60 & 17 & 160 & 36.6 & 0.453 & 21 & 0 & Obese     & Non-diabetic\\\\\n",
       "\t  1 & 102 & 74 &  0 &   0 & 39.5 & 0.293 & 42 & 1 & Obese     & Diabetic    \\\\\n",
       "\t 11 & 120 & 80 & 37 & 150 & 42.3 & 0.785 & 48 & 1 & Obese     & Diabetic    \\\\\n",
       "\t  3 & 102 & 44 & 20 &  94 & 30.8 & 0.400 & 26 & 0 & Obese     & Non-diabetic\\\\\n",
       "\t  1 & 109 & 58 & 18 & 116 & 28.5 & 0.219 & 22 & 0 & Non-obese & Non-diabetic\\\\\n",
       "\t  9 & 140 & 94 &  0 &   0 & 32.7 & 0.734 & 45 & 1 & Obese     & Diabetic    \\\\\n",
       "\t 13 & 153 & 88 & 37 & 140 & 40.6 & 1.174 & 39 & 0 & Obese     & Non-diabetic\\\\\n",
       "\t 12 & 100 & 84 & 33 & 105 & 30.0 & 0.488 & 46 & 0 & Non-obese & Non-diabetic\\\\\n",
       "\t  1 & 147 & 94 & 41 &   0 & 49.3 & 0.358 & 27 & 1 & Obese     & Diabetic    \\\\\n",
       "\t  1 &  81 & 74 & 41 &  57 & 46.3 & 1.096 & 32 & 0 & Obese     & Non-diabetic\\\\\n",
       "\t  3 & 187 & 70 & 22 & 200 & 36.4 & 0.408 & 36 & 1 & Obese     & Diabetic    \\\\\n",
       "\t  6 & 162 & 62 &  0 &   0 & 24.3 & 0.178 & 50 & 1 & Non-obese & Diabetic    \\\\\n",
       "\t  4 & 136 & 70 &  0 &   0 & 31.2 & 1.182 & 22 & 1 & Obese     & Diabetic    \\\\\n",
       "\t  1 & 121 & 78 & 39 &  74 & 39.0 & 0.261 & 28 & 0 & Obese     & Non-diabetic\\\\\n",
       "\t  3 & 108 & 62 & 24 &   0 & 26.0 & 0.223 & 25 & 0 & Non-obese & Non-diabetic\\\\\n",
       "\t  0 & 181 & 88 & 44 & 510 & 43.3 & 0.222 & 26 & 1 & Obese     & Diabetic    \\\\\n",
       "\t  8 & 154 & 78 & 32 &   0 & 32.4 & 0.443 & 45 & 1 & Obese     & Diabetic    \\\\\n",
       "\t  1 & 128 & 88 & 39 & 110 & 36.5 & 1.057 & 37 & 1 & Obese     & Diabetic    \\\\\n",
       "\t  7 & 137 & 90 & 41 &   0 & 32.0 & 0.391 & 39 & 0 & Obese     & Non-diabetic\\\\\n",
       "\t  0 & 123 & 72 &  0 &   0 & 36.3 & 0.258 & 52 & 1 & Obese     & Diabetic    \\\\\n",
       "\t  1 & 106 & 76 &  0 &   0 & 37.5 & 0.197 & 26 & 0 & Obese     & Non-diabetic\\\\\n",
       "\t  6 & 190 & 92 &  0 &   0 & 35.5 & 0.278 & 66 & 1 & Obese     & Diabetic    \\\\\n",
       "\t  2 &  88 & 58 & 26 &  16 & 28.4 & 0.766 & 22 & 0 & Non-obese & Non-diabetic\\\\\n",
       "\t  9 & 170 & 74 & 31 &   0 & 44.0 & 0.403 & 43 & 1 & Obese     & Diabetic    \\\\\n",
       "\t  9 &  89 & 62 &  0 &   0 & 22.5 & 0.142 & 33 & 0 & Non-obese & Non-diabetic\\\\\n",
       "\t 10 & 101 & 76 & 48 & 180 & 32.9 & 0.171 & 63 & 0 & Obese     & Non-diabetic\\\\\n",
       "\t  2 & 122 & 70 & 27 &   0 & 36.8 & 0.340 & 27 & 0 & Obese     & Non-diabetic\\\\\n",
       "\t  5 & 121 & 72 & 23 & 112 & 26.2 & 0.245 & 30 & 0 & Non-obese & Non-diabetic\\\\\n",
       "\t  1 & 126 & 60 &  0 &   0 & 30.1 & 0.349 & 47 & 1 & Obese     & Diabetic    \\\\\n",
       "\t  1 &  93 & 70 & 31 &   0 & 30.4 & 0.315 & 23 & 0 & Obese     & Non-diabetic\\\\\n",
       "\\end{tabular}\n"
      ],
      "text/markdown": [
       "\n",
       "A tibble: 768 × 11\n",
       "\n",
       "| Pregnancies &lt;dbl&gt; | Glucose &lt;dbl&gt; | BloodPressure &lt;dbl&gt; | SkinThickness &lt;dbl&gt; | Insulin &lt;dbl&gt; | BMI &lt;dbl&gt; | DiabetesPedigreeFunction &lt;dbl&gt; | Age &lt;dbl&gt; | Outcome &lt;dbl&gt; | bmi_group &lt;chr&gt; | diabetes_status &lt;chr&gt; |\n",
       "|---|---|---|---|---|---|---|---|---|---|---|\n",
       "|  6 | 148 | 72 | 35 |   0 | 33.6 | 0.627 | 50 | 1 | Obese     | Diabetic     |\n",
       "|  1 |  85 | 66 | 29 |   0 | 26.6 | 0.351 | 31 | 0 | Non-obese | Non-diabetic |\n",
       "|  8 | 183 | 64 |  0 |   0 | 23.3 | 0.672 | 32 | 1 | Non-obese | Diabetic     |\n",
       "|  1 |  89 | 66 | 23 |  94 | 28.1 | 0.167 | 21 | 0 | Non-obese | Non-diabetic |\n",
       "|  0 | 137 | 40 | 35 | 168 | 43.1 | 2.288 | 33 | 1 | Obese     | Diabetic     |\n",
       "|  5 | 116 | 74 |  0 |   0 | 25.6 | 0.201 | 30 | 0 | Non-obese | Non-diabetic |\n",
       "|  3 |  78 | 50 | 32 |  88 | 31.0 | 0.248 | 26 | 1 | Obese     | Diabetic     |\n",
       "| 10 | 115 |  0 |  0 |   0 | 35.3 | 0.134 | 29 | 0 | Obese     | Non-diabetic |\n",
       "|  2 | 197 | 70 | 45 | 543 | 30.5 | 0.158 | 53 | 1 | Obese     | Diabetic     |\n",
       "|  8 | 125 | 96 |  0 |   0 |  0.0 | 0.232 | 54 | 1 | Non-obese | Diabetic     |\n",
       "|  4 | 110 | 92 |  0 |   0 | 37.6 | 0.191 | 30 | 0 | Obese     | Non-diabetic |\n",
       "| 10 | 168 | 74 |  0 |   0 | 38.0 | 0.537 | 34 | 1 | Obese     | Diabetic     |\n",
       "| 10 | 139 | 80 |  0 |   0 | 27.1 | 1.441 | 57 | 0 | Non-obese | Non-diabetic |\n",
       "|  1 | 189 | 60 | 23 | 846 | 30.1 | 0.398 | 59 | 1 | Obese     | Diabetic     |\n",
       "|  5 | 166 | 72 | 19 | 175 | 25.8 | 0.587 | 51 | 1 | Non-obese | Diabetic     |\n",
       "|  7 | 100 |  0 |  0 |   0 | 30.0 | 0.484 | 32 | 1 | Non-obese | Diabetic     |\n",
       "|  0 | 118 | 84 | 47 | 230 | 45.8 | 0.551 | 31 | 1 | Obese     | Diabetic     |\n",
       "|  7 | 107 | 74 |  0 |   0 | 29.6 | 0.254 | 31 | 1 | Non-obese | Diabetic     |\n",
       "|  1 | 103 | 30 | 38 |  83 | 43.3 | 0.183 | 33 | 0 | Obese     | Non-diabetic |\n",
       "|  1 | 115 | 70 | 30 |  96 | 34.6 | 0.529 | 32 | 1 | Obese     | Diabetic     |\n",
       "|  3 | 126 | 88 | 41 | 235 | 39.3 | 0.704 | 27 | 0 | Obese     | Non-diabetic |\n",
       "|  8 |  99 | 84 |  0 |   0 | 35.4 | 0.388 | 50 | 0 | Obese     | Non-diabetic |\n",
       "|  7 | 196 | 90 |  0 |   0 | 39.8 | 0.451 | 41 | 1 | Obese     | Diabetic     |\n",
       "|  9 | 119 | 80 | 35 |   0 | 29.0 | 0.263 | 29 | 1 | Non-obese | Diabetic     |\n",
       "| 11 | 143 | 94 | 33 | 146 | 36.6 | 0.254 | 51 | 1 | Obese     | Diabetic     |\n",
       "| 10 | 125 | 70 | 26 | 115 | 31.1 | 0.205 | 41 | 1 | Obese     | Diabetic     |\n",
       "|  7 | 147 | 76 |  0 |   0 | 39.4 | 0.257 | 43 | 1 | Obese     | Diabetic     |\n",
       "|  1 |  97 | 66 | 15 | 140 | 23.2 | 0.487 | 22 | 0 | Non-obese | Non-diabetic |\n",
       "| 13 | 145 | 82 | 19 | 110 | 22.2 | 0.245 | 57 | 0 | Non-obese | Non-diabetic |\n",
       "|  5 | 117 | 92 |  0 |   0 | 34.1 | 0.337 | 38 | 0 | Obese     | Non-diabetic |\n",
       "| ⋮ | ⋮ | ⋮ | ⋮ | ⋮ | ⋮ | ⋮ | ⋮ | ⋮ | ⋮ | ⋮ |\n",
       "|  2 |  99 | 60 | 17 | 160 | 36.6 | 0.453 | 21 | 0 | Obese     | Non-diabetic |\n",
       "|  1 | 102 | 74 |  0 |   0 | 39.5 | 0.293 | 42 | 1 | Obese     | Diabetic     |\n",
       "| 11 | 120 | 80 | 37 | 150 | 42.3 | 0.785 | 48 | 1 | Obese     | Diabetic     |\n",
       "|  3 | 102 | 44 | 20 |  94 | 30.8 | 0.400 | 26 | 0 | Obese     | Non-diabetic |\n",
       "|  1 | 109 | 58 | 18 | 116 | 28.5 | 0.219 | 22 | 0 | Non-obese | Non-diabetic |\n",
       "|  9 | 140 | 94 |  0 |   0 | 32.7 | 0.734 | 45 | 1 | Obese     | Diabetic     |\n",
       "| 13 | 153 | 88 | 37 | 140 | 40.6 | 1.174 | 39 | 0 | Obese     | Non-diabetic |\n",
       "| 12 | 100 | 84 | 33 | 105 | 30.0 | 0.488 | 46 | 0 | Non-obese | Non-diabetic |\n",
       "|  1 | 147 | 94 | 41 |   0 | 49.3 | 0.358 | 27 | 1 | Obese     | Diabetic     |\n",
       "|  1 |  81 | 74 | 41 |  57 | 46.3 | 1.096 | 32 | 0 | Obese     | Non-diabetic |\n",
       "|  3 | 187 | 70 | 22 | 200 | 36.4 | 0.408 | 36 | 1 | Obese     | Diabetic     |\n",
       "|  6 | 162 | 62 |  0 |   0 | 24.3 | 0.178 | 50 | 1 | Non-obese | Diabetic     |\n",
       "|  4 | 136 | 70 |  0 |   0 | 31.2 | 1.182 | 22 | 1 | Obese     | Diabetic     |\n",
       "|  1 | 121 | 78 | 39 |  74 | 39.0 | 0.261 | 28 | 0 | Obese     | Non-diabetic |\n",
       "|  3 | 108 | 62 | 24 |   0 | 26.0 | 0.223 | 25 | 0 | Non-obese | Non-diabetic |\n",
       "|  0 | 181 | 88 | 44 | 510 | 43.3 | 0.222 | 26 | 1 | Obese     | Diabetic     |\n",
       "|  8 | 154 | 78 | 32 |   0 | 32.4 | 0.443 | 45 | 1 | Obese     | Diabetic     |\n",
       "|  1 | 128 | 88 | 39 | 110 | 36.5 | 1.057 | 37 | 1 | Obese     | Diabetic     |\n",
       "|  7 | 137 | 90 | 41 |   0 | 32.0 | 0.391 | 39 | 0 | Obese     | Non-diabetic |\n",
       "|  0 | 123 | 72 |  0 |   0 | 36.3 | 0.258 | 52 | 1 | Obese     | Diabetic     |\n",
       "|  1 | 106 | 76 |  0 |   0 | 37.5 | 0.197 | 26 | 0 | Obese     | Non-diabetic |\n",
       "|  6 | 190 | 92 |  0 |   0 | 35.5 | 0.278 | 66 | 1 | Obese     | Diabetic     |\n",
       "|  2 |  88 | 58 | 26 |  16 | 28.4 | 0.766 | 22 | 0 | Non-obese | Non-diabetic |\n",
       "|  9 | 170 | 74 | 31 |   0 | 44.0 | 0.403 | 43 | 1 | Obese     | Diabetic     |\n",
       "|  9 |  89 | 62 |  0 |   0 | 22.5 | 0.142 | 33 | 0 | Non-obese | Non-diabetic |\n",
       "| 10 | 101 | 76 | 48 | 180 | 32.9 | 0.171 | 63 | 0 | Obese     | Non-diabetic |\n",
       "|  2 | 122 | 70 | 27 |   0 | 36.8 | 0.340 | 27 | 0 | Obese     | Non-diabetic |\n",
       "|  5 | 121 | 72 | 23 | 112 | 26.2 | 0.245 | 30 | 0 | Non-obese | Non-diabetic |\n",
       "|  1 | 126 | 60 |  0 |   0 | 30.1 | 0.349 | 47 | 1 | Obese     | Diabetic     |\n",
       "|  1 |  93 | 70 | 31 |   0 | 30.4 | 0.315 | 23 | 0 | Obese     | Non-diabetic |\n",
       "\n"
      ],
      "text/plain": [
       "    Pregnancies Glucose BloodPressure SkinThickness Insulin BMI \n",
       "1    6          148     72            35              0     33.6\n",
       "2    1           85     66            29              0     26.6\n",
       "3    8          183     64             0              0     23.3\n",
       "4    1           89     66            23             94     28.1\n",
       "5    0          137     40            35            168     43.1\n",
       "6    5          116     74             0              0     25.6\n",
       "7    3           78     50            32             88     31.0\n",
       "8   10          115      0             0              0     35.3\n",
       "9    2          197     70            45            543     30.5\n",
       "10   8          125     96             0              0      0.0\n",
       "11   4          110     92             0              0     37.6\n",
       "12  10          168     74             0              0     38.0\n",
       "13  10          139     80             0              0     27.1\n",
       "14   1          189     60            23            846     30.1\n",
       "15   5          166     72            19            175     25.8\n",
       "16   7          100      0             0              0     30.0\n",
       "17   0          118     84            47            230     45.8\n",
       "18   7          107     74             0              0     29.6\n",
       "19   1          103     30            38             83     43.3\n",
       "20   1          115     70            30             96     34.6\n",
       "21   3          126     88            41            235     39.3\n",
       "22   8           99     84             0              0     35.4\n",
       "23   7          196     90             0              0     39.8\n",
       "24   9          119     80            35              0     29.0\n",
       "25  11          143     94            33            146     36.6\n",
       "26  10          125     70            26            115     31.1\n",
       "27   7          147     76             0              0     39.4\n",
       "28   1           97     66            15            140     23.2\n",
       "29  13          145     82            19            110     22.2\n",
       "30   5          117     92             0              0     34.1\n",
       "⋮   ⋮           ⋮       ⋮             ⋮             ⋮       ⋮   \n",
       "739  2           99     60            17            160     36.6\n",
       "740  1          102     74             0              0     39.5\n",
       "741 11          120     80            37            150     42.3\n",
       "742  3          102     44            20             94     30.8\n",
       "743  1          109     58            18            116     28.5\n",
       "744  9          140     94             0              0     32.7\n",
       "745 13          153     88            37            140     40.6\n",
       "746 12          100     84            33            105     30.0\n",
       "747  1          147     94            41              0     49.3\n",
       "748  1           81     74            41             57     46.3\n",
       "749  3          187     70            22            200     36.4\n",
       "750  6          162     62             0              0     24.3\n",
       "751  4          136     70             0              0     31.2\n",
       "752  1          121     78            39             74     39.0\n",
       "753  3          108     62            24              0     26.0\n",
       "754  0          181     88            44            510     43.3\n",
       "755  8          154     78            32              0     32.4\n",
       "756  1          128     88            39            110     36.5\n",
       "757  7          137     90            41              0     32.0\n",
       "758  0          123     72             0              0     36.3\n",
       "759  1          106     76             0              0     37.5\n",
       "760  6          190     92             0              0     35.5\n",
       "761  2           88     58            26             16     28.4\n",
       "762  9          170     74            31              0     44.0\n",
       "763  9           89     62             0              0     22.5\n",
       "764 10          101     76            48            180     32.9\n",
       "765  2          122     70            27              0     36.8\n",
       "766  5          121     72            23            112     26.2\n",
       "767  1          126     60             0              0     30.1\n",
       "768  1           93     70            31              0     30.4\n",
       "    DiabetesPedigreeFunction Age Outcome bmi_group diabetes_status\n",
       "1   0.627                    50  1       Obese     Diabetic       \n",
       "2   0.351                    31  0       Non-obese Non-diabetic   \n",
       "3   0.672                    32  1       Non-obese Diabetic       \n",
       "4   0.167                    21  0       Non-obese Non-diabetic   \n",
       "5   2.288                    33  1       Obese     Diabetic       \n",
       "6   0.201                    30  0       Non-obese Non-diabetic   \n",
       "7   0.248                    26  1       Obese     Diabetic       \n",
       "8   0.134                    29  0       Obese     Non-diabetic   \n",
       "9   0.158                    53  1       Obese     Diabetic       \n",
       "10  0.232                    54  1       Non-obese Diabetic       \n",
       "11  0.191                    30  0       Obese     Non-diabetic   \n",
       "12  0.537                    34  1       Obese     Diabetic       \n",
       "13  1.441                    57  0       Non-obese Non-diabetic   \n",
       "14  0.398                    59  1       Obese     Diabetic       \n",
       "15  0.587                    51  1       Non-obese Diabetic       \n",
       "16  0.484                    32  1       Non-obese Diabetic       \n",
       "17  0.551                    31  1       Obese     Diabetic       \n",
       "18  0.254                    31  1       Non-obese Diabetic       \n",
       "19  0.183                    33  0       Obese     Non-diabetic   \n",
       "20  0.529                    32  1       Obese     Diabetic       \n",
       "21  0.704                    27  0       Obese     Non-diabetic   \n",
       "22  0.388                    50  0       Obese     Non-diabetic   \n",
       "23  0.451                    41  1       Obese     Diabetic       \n",
       "24  0.263                    29  1       Non-obese Diabetic       \n",
       "25  0.254                    51  1       Obese     Diabetic       \n",
       "26  0.205                    41  1       Obese     Diabetic       \n",
       "27  0.257                    43  1       Obese     Diabetic       \n",
       "28  0.487                    22  0       Non-obese Non-diabetic   \n",
       "29  0.245                    57  0       Non-obese Non-diabetic   \n",
       "30  0.337                    38  0       Obese     Non-diabetic   \n",
       "⋮   ⋮                        ⋮   ⋮       ⋮         ⋮              \n",
       "739 0.453                    21  0       Obese     Non-diabetic   \n",
       "740 0.293                    42  1       Obese     Diabetic       \n",
       "741 0.785                    48  1       Obese     Diabetic       \n",
       "742 0.400                    26  0       Obese     Non-diabetic   \n",
       "743 0.219                    22  0       Non-obese Non-diabetic   \n",
       "744 0.734                    45  1       Obese     Diabetic       \n",
       "745 1.174                    39  0       Obese     Non-diabetic   \n",
       "746 0.488                    46  0       Non-obese Non-diabetic   \n",
       "747 0.358                    27  1       Obese     Diabetic       \n",
       "748 1.096                    32  0       Obese     Non-diabetic   \n",
       "749 0.408                    36  1       Obese     Diabetic       \n",
       "750 0.178                    50  1       Non-obese Diabetic       \n",
       "751 1.182                    22  1       Obese     Diabetic       \n",
       "752 0.261                    28  0       Obese     Non-diabetic   \n",
       "753 0.223                    25  0       Non-obese Non-diabetic   \n",
       "754 0.222                    26  1       Obese     Diabetic       \n",
       "755 0.443                    45  1       Obese     Diabetic       \n",
       "756 1.057                    37  1       Obese     Diabetic       \n",
       "757 0.391                    39  0       Obese     Non-diabetic   \n",
       "758 0.258                    52  1       Obese     Diabetic       \n",
       "759 0.197                    26  0       Obese     Non-diabetic   \n",
       "760 0.278                    66  1       Obese     Diabetic       \n",
       "761 0.766                    22  0       Non-obese Non-diabetic   \n",
       "762 0.403                    43  1       Obese     Diabetic       \n",
       "763 0.142                    33  0       Non-obese Non-diabetic   \n",
       "764 0.171                    63  0       Obese     Non-diabetic   \n",
       "765 0.340                    27  0       Obese     Non-diabetic   \n",
       "766 0.245                    30  0       Non-obese Non-diabetic   \n",
       "767 0.349                    47  1       Obese     Diabetic       \n",
       "768 0.315                    23  0       Obese     Non-diabetic   "
      ]
     },
     "metadata": {},
     "output_type": "display_data"
    }
   ],
   "source": [
    "diabetes_data3"
   ]
  },
  {
   "cell_type": "code",
   "execution_count": 7,
   "id": "cd15421b",
   "metadata": {
    "vscode": {
     "languageId": "r"
    }
   },
   "outputs": [],
   "source": [
    "bmi_glucose_box <- create_boxplot(\n",
    "  diabetes_data3,\n",
    "  \"bmi_group\",\n",
    "  \"Glucose\",\n",
    "  \"Glucose Levels by BMI Group\"\n",
    ") # Boxplot of Glucose levels by BMI group for normality check\n",
    "qq_plot <- create_qq_plot(\n",
    "  diabetes_data3, \"Glucose\", \"bmi_group\"\n",
    ") # QQ plot of Glucose levels by BMI group for varicance check"
   ]
  },
  {
   "cell_type": "code",
   "execution_count": 10,
   "id": "0f98d2c4",
   "metadata": {
    "vscode": {
     "languageId": "r"
    }
   },
   "outputs": [
    {
     "data": {
      "image/png": "[encoded data removed]",
      "text/plain": [
       "plot without title"
      ]
     },
     "metadata": {
      "image/png": {
       "height": 420,
       "width": 420
      }
     },
     "output_type": "display_data"
    },
    {
     "data": {
      "image/png": "[encoded data removed]",
      "text/plain": [
       "plot without title"
      ]
     },
     "metadata": {
      "image/png": {
       "height": 420,
       "width": 420
      }
     },
     "output_type": "display_data"
    }
   ],
   "source": [
    "qq_plot\n",
    "\n",
    "bmi_glucose_box"
   ]
  },
  {
   "cell_type": "markdown",
   "id": "2257ef3d",
   "metadata": {},
   "source": [
    "### **Stating Hypothesis**\n",
    "\n",
    "**Null Hypothesis**: H<sub>0</sub>: μ<sub>*obese*</sub> = μ<sub>*non-obese*</sub> --> (There is no difference in glucose levels between patients with BMI over 30 and those with BMI under 30).\n",
    "\n",
    "**Alternative Hypothesis**: H<sub>1</sub>: μ<sub>*obese*</sub> > μ<sub>*non-obese*</sub> --> (Patients with BMI over 30 have higher glucose levels than those with a BMI under 30)."
   ]
  },
  {
   "cell_type": "code",
   "execution_count": 8,
   "id": "b2a84c2e",
   "metadata": {
    "vscode": {
     "languageId": "r"
    }
   },
   "outputs": [],
   "source": [
    "t_test_result <- t.test(Glucose ~ bmi_group, data = diabetes_data3)"
   ]
  },
  {
   "cell_type": "markdown",
   "id": "b6662ca4",
   "metadata": {
    "papermill": {
     "duration": 0.003655,
     "end_time": "2024-12-23T19:24:43.854982",
     "exception": false,
     "start_time": "2024-12-23T19:24:43.851327",
     "status": "completed"
    },
    "tags": []
   },
   "source": [
    "## **3.2 Come up with your own claim from the available data and conduct a hypothesis test for it following in the same steps.**\n"
   ]
  },
  {
   "cell_type": "markdown",
   "id": "a0cf1e82",
   "metadata": {},
   "source": [
    "### **3.2**\n",
    "**Claim + Hypothesis**: patients with high blood pressure are diabetic.\n",
    "\n",
    "**Justification**:\n",
    "- using t-test to assess the association between continuous variable **BloodPressure** and categorical variable **Outcome**.\n",
    "- since the dependent variable **BloodPressure** is continuous and the independent variable **Outcome** is categorical, the t-test is an appropriate test to use."
   ]
  },
  {
   "cell_type": "code",
   "execution_count": 13,
   "id": "8b4fb044",
   "metadata": {
    "vscode": {
     "languageId": "r"
    }
   },
   "outputs": [],
   "source": [
    "bp_test_data <- diabetes_data3 %>%\n",
    "  mutate(diabetes_status = ifelse(Outcome == 1, \"Diabetic\", \"Non-diabetic\"))"
   ]
  },
  {
   "cell_type": "code",
   "execution_count": 14,
   "id": "b52be7b2",
   "metadata": {
    "vscode": {
     "languageId": "r"
    }
   },
   "outputs": [],
   "source": [
    "bp_box <- create_boxplot(\n",
    "  bp_test_data,\n",
    "  \"diabetes_status\",\n",
    "  \"BloodPressure\",\n",
    "  \"Blood Pressure by Diabetes Status\"\n",
    ") # Boxplot of Blood Pressure by Diabetes Status for normality check\n",
    "bp_qq <- create_qq_plot(\n",
    "  bp_test_data, \"BloodPressure\", \"diabetes_status\"\n",
    ") # QQ plot of Blood Pressure by Diabetes Status for variance check"
   ]
  },
  {
   "cell_type": "code",
   "execution_count": 27,
   "id": "de237e00",
   "metadata": {
    "vscode": {
     "languageId": "r"
    }
   },
   "outputs": [
    {
     "data": {
      "image/png": "[encoded data removed]",
      "text/plain": [
       "plot without title"
      ]
     },
     "metadata": {
      "image/png": {
       "height": 420,
       "width": 420
      }
     },
     "output_type": "display_data"
    },
    {
     "data": {
      "image/png": "[encoded data removed]",
      "text/plain": [
       "plot without title"
      ]
     },
     "metadata": {
      "image/png": {
       "height": 420,
       "width": 420
      }
     },
     "output_type": "display_data"
    }
   ],
   "source": [
    "bp_qq\n",
    "\n",
    "bp_box"
   ]
  },
  {
   "cell_type": "markdown",
   "id": "1f2c5cac",
   "metadata": {},
   "source": [
    "### **Stating Hypothesis**\n",
    "\n",
    "**Null Hypothesis**: H<sub>0</sub>: μ<sub>*diabetic*</sub> = μ<sub>*non-diabetic*</sub> --> (There is no difference in blood pressure between diabetic and non-diabetic patients).\n",
    "\n",
    "**Alternative Hypothesis**: H<sub>1</sub>: μ<sub>*diabetic*</sub> > μ<sub>*non-diabetic*</sub> --> (Patients with high blood pressure are diabetic)."
   ]
  },
  {
   "cell_type": "code",
   "execution_count": 15,
   "id": "237ae292",
   "metadata": {
    "vscode": {
     "languageId": "r"
    }
   },
   "outputs": [],
   "source": [
    "bp_t_test <- t.test(BloodPressure ~ diabetes_status, data = bp_test_data)"
   ]
  },
  {
   "cell_type": "markdown",
   "id": "873a504b",
   "metadata": {},
   "source": [
    "# Reporting results of **3.1** and **3.2** hypothesis tests."
   ]
  },
  {
   "cell_type": "code",
   "execution_count": null,
   "id": "77dc8ae9",
   "metadata": {
    "papermill": {
     "duration": 0.003514,
     "end_time": "2024-12-23T19:24:43.862027",
     "exception": false,
     "start_time": "2024-12-23T19:24:43.858513",
     "status": "completed"
    },
    "tags": [],
    "vscode": {
     "languageId": "r"
    }
   },
   "outputs": [
    {
     "name": "stdout",
     "output_type": "stream",
     "text": [
      "\n",
      "=== BMI and Glucose Level Analysis ===\n",
      "\n",
      "\tWelch Two Sample t-test\n",
      "\n",
      "data:  Glucose by bmi_group\n",
      "t = -5.8895, df = 716.63, p-value = 5.955e-09\n",
      "alternative hypothesis: true difference in means between group Non-obese and group Obese is not equal to 0\n",
      "95 percent confidence interval:\n",
      " -17.537835  -8.768521\n",
      "sample estimates:\n",
      "mean in group Non-obese     mean in group Obese \n",
      "               112.9307                126.0839 \n",
      "\n",
      "\n",
      "=== Blood Pressure and Diabetes Status Analysis ===\n",
      "\n",
      "\tWelch Two Sample t-test\n",
      "\n",
      "data:  BloodPressure by diabetes_status\n",
      "t = 1.7131, df = 471.31, p-value = 0.08735\n",
      "alternative hypothesis: true difference in means between group Diabetic and group Non-diabetic is not equal to 0\n",
      "95 percent confidence interval:\n",
      " -0.388326  5.669580\n",
      "sample estimates:\n",
      "    mean in group Diabetic mean in group Non-diabetic \n",
      "                  70.82463                   68.18400 \n",
      "\n"
     ]
    }
   ],
   "source": [
    "print_results(t_test_result = t_test_result, bp_t_test = bp_t_test)"
   ]
  },
  {
   "cell_type": "code",
   "execution_count": 31,
   "id": "f79a09e9",
   "metadata": {
    "vscode": {
     "languageId": "r"
    }
   },
   "outputs": [],
   "source": [
    "# interpretation for BMI-Glucose test\n",
    "bmi_glucose_interpretation <- interpret_hypothesis_test(t_test_result)\n",
    "\n",
    "# interpretation for Blood Pressure-Diabetes test\n",
    "bp_diabetes_interpretation <- interpret_hypothesis_test(bp_t_test)"
   ]
  },
  {
   "cell_type": "code",
   "execution_count": null,
   "id": "a70d2415",
   "metadata": {
    "vscode": {
     "languageId": "r"
    }
   },
   "outputs": [
    {
     "name": "stdout",
     "output_type": "stream",
     "text": [
      "\n",
      "=== Hypothesis Testing Results ===\n",
      "\n",
      "1. BMI and Glucose Levels:\n",
      "   -  Reject the null hypothesis \n",
      "   - P-value: 5.9554e-09 \n",
      "   - 95% CI: -17.54 to -8.77 \n",
      "\n",
      "2. Blood Pressure and Diabetes Status:\n",
      "   -  Fail to reject the null hypothesis \n",
      "   - P-value: 0.087354 \n",
      "   - 95% CI: -0.39 to 5.67 \n"
     ]
    }
   ],
   "source": [
    "create_report(\n",
    "  bmi_glucose_interpretation = bmi_glucose_interpretation,\n",
    "  bp_diabetes_interpretation = bp_diabetes_interpretation\n",
    ")"
   ]
  },
  {
   "cell_type": "markdown",
   "id": "144cf254",
   "metadata": {
    "papermill": {
     "duration": 0.00422,
     "end_time": "2024-12-23T19:24:43.869770",
     "exception": false,
     "start_time": "2024-12-23T19:24:43.865550",
     "status": "completed"
    },
    "tags": []
   },
   "source": [
    "# **PART 4: Simulation Task:**"
   ]
  },
  {
   "cell_type": "markdown",
   "id": "1da24f22",
   "metadata": {
    "papermill": {
     "duration": 0.003538,
     "end_time": "2024-12-23T19:24:43.876772",
     "exception": false,
     "start_time": "2024-12-23T19:24:43.873234",
     "status": "completed"
    },
    "tags": []
   },
   "source": [
    "## **4.1 Take 25 Random Samples of Size 15 from the Dataset**\n",
    "\n",
    "1. Select a relevant column from the dataset (e.g., Glucose, BMI, or Age).\n",
    "2. Generate 25 random samples, each containing 15 data points, from the selected column.\n",
    "3. For each sample, compute the mean and then calculate the 95% confidence interval for the sample mean.\n",
    "4. From your output, determine the proportion of these 25 confidence intervals that contain the true population mean of the selected column (e.g., mean glucose or BMI).\n"
   ]
  },
  {
   "cell_type": "code",
   "execution_count": null,
   "id": "db7a77aa",
   "metadata": {
    "papermill": {
     "duration": 0.003499,
     "end_time": "2024-12-23T19:24:43.883738",
     "exception": false,
     "start_time": "2024-12-23T19:24:43.880239",
     "status": "completed"
    },
    "tags": [],
    "vscode": {
     "languageId": "r"
    }
   },
   "outputs": [],
   "source": []
  },
  {
   "cell_type": "markdown",
   "id": "96e79fbb",
   "metadata": {
    "papermill": {
     "duration": 0.00378,
     "end_time": "2024-12-23T19:24:43.891451",
     "exception": false,
     "start_time": "2024-12-23T19:24:43.887671",
     "status": "completed"
    },
    "tags": []
   },
   "source": [
    "## 4.2 **Increase the Sample Size to 100**\n",
    "1. Now, take 25 random samples, each with a sample size of 100, from the same column you selected in part (a)..\n",
    "2. For each sample, compute the mean and calculate the 95% confidence intervals.\n",
    "3. Observe the following:\n",
    "    * Does the width of the confidence intervals increase or decrease?\n",
    "    * Does increasing the sample size result in more or fewer intervals containing the true population mean?\n",
    "4. Compare your findings with actual computations and interpret the results.\n"
   ]
  },
  {
   "cell_type": "code",
   "execution_count": null,
   "id": "16a47a45",
   "metadata": {
    "papermill": {
     "duration": 0.003604,
     "end_time": "2024-12-23T19:24:43.898700",
     "exception": false,
     "start_time": "2024-12-23T19:24:43.895096",
     "status": "completed"
    },
    "tags": [],
    "vscode": {
     "languageId": "r"
    }
   },
   "outputs": [],
   "source": []
  },
  {
   "cell_type": "markdown",
   "id": "f33babc9",
   "metadata": {
    "papermill": {
     "duration": 0.003554,
     "end_time": "2024-12-23T19:24:43.905851",
     "exception": false,
     "start_time": "2024-12-23T19:24:43.902297",
     "status": "completed"
    },
    "tags": []
   },
   "source": [
    "## **4.3 Take 20 Random Samples of Size 10 from the Dataset**\n",
    "1. Finally, generate 20 random samples, each with a sample size of 10, from the same selected column in the dataset.\n",
    "2. For each sample, compute the mean and determine the 95% confidence intervals.\n",
    "3. Evaluate the coverage proportion and analyze the relationship between sample size and the accuracy of confidence intervals.\n"
   ]
  },
  {
   "cell_type": "code",
   "execution_count": null,
   "id": "35a02659",
   "metadata": {
    "papermill": {
     "duration": 0.003623,
     "end_time": "2024-12-23T19:24:43.912961",
     "exception": false,
     "start_time": "2024-12-23T19:24:43.909338",
     "status": "completed"
    },
    "tags": [],
    "vscode": {
     "languageId": "r"
    }
   },
   "outputs": [],
   "source": []
  }
 ],
 "metadata": {
  "kaggle": {
   "accelerator": "none",
   "dataSources": [
    {
     "datasetId": 5922440,
     "sourceId": 9687881,
     "sourceType": "datasetVersion"
    }
   ],
   "dockerImageVersionId": 30749,
   "isGpuEnabled": false,
   "isInternetEnabled": true,
   "language": "r",
   "sourceType": "notebook"
  },
  "kernelspec": {
   "display_name": "R",
   "language": "R",
   "name": "ir"
  },
  "language_info": {
   "codemirror_mode": "r",
   "file_extension": ".r",
   "mimetype": "text/x-r-source",
   "name": "R",
   "pygments_lexer": "r",
   "version": "4.4.2"
  },
  "papermill": {
   "default_parameters": {},
   "duration": 5.222071,
   "end_time": "2024-12-23T19:24:44.037881",
   "environment_variables": {},
   "exception": null,
   "input_path": "__notebook__.ipynb",
   "output_path": "__notebook__.ipynb",
   "parameters": {},
   "start_time": "2024-12-23T19:24:38.815810",
   "version": "2.6.0"
  }
 },
 "nbformat": 4,
 "nbformat_minor": 5
}
